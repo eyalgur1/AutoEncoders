{
  "cells": [
    {
      "cell_type": "markdown",
      "metadata": {
        "id": "view-in-github",
        "colab_type": "text"
      },
      "source": [
        "<a href=\"https://colab.research.google.com/github/eyalgur1/AutoEncoders/blob/main/AutoEncoder_CNN_PyTorch.ipynb\" target=\"_parent\"><img src=\"https://colab.research.google.com/assets/colab-badge.svg\" alt=\"Open In Colab\"/></a>"
      ]
    },
    {
      "cell_type": "code",
      "execution_count": null,
      "metadata": {
        "id": "o_f1PQvuAC6y"
      },
      "outputs": [],
      "source": [
        "import torch\n",
        "from torch import nn, optim\n",
        "from torch.optim import Optimizer\n",
        "import torchvision\n",
        "import torchvision.transforms as transforms\n",
        "import random\n",
        "import pdb  # for debugging\n",
        "import matplotlib.pyplot as plt\n",
        "import numpy as np"
      ]
    },
    {
      "cell_type": "code",
      "source": [
        "# Hyperparameters for CIFAR10 training set (set by the user)\n",
        "# Note: CIFAR10 training set contains 50000 images\n",
        "batch_size = 125  # batch_size=125 is divisable by 50000 (division is not necessary, but better for plotting)\n",
        "shuffle = True  # shuffle the training set\n",
        "seed = random.randint(0, 100)  # set seed for reproducibility"
      ],
      "metadata": {
        "id": "pXHj1vD2bwUZ"
      },
      "execution_count": null,
      "outputs": []
    },
    {
      "cell_type": "code",
      "source": [
        "# Hyperparmeters for training of models (set by the user)\n",
        "# Joint Model: a standard ADAM optimizer model that updates all weights in every iteration.\n",
        "# NAM Model: updates the encoder and the decoder in an alternating fashion using ADAM.\n",
        "\n",
        "\n",
        "# Note 1:\n",
        "# In the current implementation of NAM, the update of the encoder and decoder switches at the end of each epoch.\n",
        "# This means that after completing an epoch, the next epoch begins with the update of the other one (hence, in a single epoch only one of them is updated).\n",
        "# This switching strategy can be modified; for instance, they can switch roles within each mini-batch.\n",
        "# In this alternative approach, the decoder would be trained on a mini-batch, and then the encoder update would switch for the same mini-batch.\n",
        "\n",
        "\n",
        "# Note 2:\n",
        "# The implementation of all models below allows to set a maximal number of iterations for the epochs.\n",
        "# Recall that one iteraion corresponds to a single batch, hence the maximal possible number of iterations at each epoch is len(trainloader.dataset)//batch_size.\n",
        "# This means that by limiting the number ot iterations for an epochs, implies that not all batches will be considered for this epoch.\n",
        "\n",
        "\n",
        "num_epochs = 4\n",
        "joint_model = True  # Set True for Joint Model training\n",
        "NAM_model = True  # Set True for NAM Model training\n",
        "decoder_start = True  # if decoder_start=True, NAM starts with decoder updates, else encoder updates (required for if NAM_model=True); See Note 1 above\n",
        "lr_joint = 0.001  # lr for Joint Model (set 0.001 for ADAM's default)\n",
        "lr_decoder, lr_encoder = (0.01, 0.0001)  # lr for NAM Model's decoder/encoder update (set 0.001 for ADAM's default)\n",
        "num_iter_joint = 'max'  # 'max' or inetger lower than 'max' (otherwise it is set automatically to 'max'); limiting the number of iterations of the epochs of the Joint Model; See Note 2 above\n",
        "num_iter_decoder, num_iter_encoder = ('max', 'max')  # 'max' or inetger lower than 'max' (otherwise it set automatically to 'max'); limiting the number of iterations of the epochs of the NAM Model; See Note 2 above"
      ],
      "metadata": {
        "id": "ga5GDXs0cENm"
      },
      "execution_count": null,
      "outputs": []
    },
    {
      "cell_type": "code",
      "execution_count": null,
      "metadata": {
        "id": "vqBP_RKiADr4"
      },
      "outputs": [],
      "source": [
        "# Define an AutoEncoder for 3×32×32 CIFAR10 photos\n",
        "\n",
        "\n",
        "class Autoencoder(nn.Module):\n",
        "    def __init__(self):\n",
        "        super(Autoencoder, self).__init__()\n",
        "\n",
        "        # Conv2d(in_channels, out_channels, kernel_size, stride, padding)\n",
        "        self.encoder = nn.Sequential(\n",
        "            nn.Conv2d(3, 12, 4, stride=2, padding=1),  # Takes input shape [batch, channel=3, H=32, W=32] and transforms it to [batch, 12, 16, 16]\n",
        "            nn.ReLU(),\n",
        "            nn.Conv2d(12, 24, 4, stride=2, padding=1),  # [batch, 24, 8, 8]\n",
        "            nn.ReLU(),\n",
        "\t\t\tnn.Conv2d(24, 48, 4, stride=2, padding=1),  # [batch, 48, 4, 4]\n",
        "            nn.ReLU(),\n",
        "        )\n",
        "\n",
        "        self.decoder = nn.Sequential(\n",
        "\t\t\tnn.ConvTranspose2d(48, 24, 4, stride=2, padding=1),  # Takes input shape [batch, channel=48, H=4, W=4] and transforms it to [batch, 12, 16, 16]\n",
        "            nn.ReLU(),\n",
        "\t\t\tnn.ConvTranspose2d(24, 12, 4, stride=2, padding=1),  # [batch, 12, 16, 16]\n",
        "            nn.ReLU(),\n",
        "            nn.ConvTranspose2d(12, 3, 4, stride=2, padding=1),  # [batch, 3, 32, 32]\n",
        "            nn.Sigmoid(),\n",
        "        )\n",
        "\n",
        "    def forward(self, x):\n",
        "        encoded = self.encoder(x)\n",
        "        decoded = self.decoder(encoded)\n",
        "        decoded = decoded.view(x.size(0), 3, 32, 32)  # reshape to original image size\n",
        "        return decoded"
      ]
    },
    {
      "cell_type": "code",
      "execution_count": null,
      "metadata": {
        "id": "KVb8NzzGOhJy"
      },
      "outputs": [],
      "source": [
        "# Auxiliary functions\n",
        "\n",
        "def set_seed(seed):  # set seed for reproducibility\n",
        "    torch.manual_seed(seed)\n",
        "    np.random.seed(seed)\n",
        "    random.seed(seed)\n",
        "\n",
        "\n",
        "def switch_requires_grad(model, decoder):  # switch requires_grad for model object containing encoder and decoder\n",
        "    if decoder:\n",
        "        for param in model.decoder.parameters():\n",
        "            param.requires_grad = True\n",
        "        for param in model.encoder.parameters():\n",
        "            param.requires_grad = False\n",
        "    else:\n",
        "        for param in model.encoder.parameters():\n",
        "            param.requires_grad = True\n",
        "        for param in model.decoder.parameters():\n",
        "            param.requires_grad = False\n",
        "\n",
        "\n",
        "def reset_learning_rate(optimizer, lr):  # reset learning rate for optimizer object\n",
        "    for param_group in optimizer.param_groups:\n",
        "        param_group['lr'] = lr\n",
        "# This function should be redefined to lr annealing.\n",
        "# This function is currently unused below.\n",
        "\n",
        "\n",
        "def NAM_epoch_iterations(decoder_update):  # sets the number of iterations for NAM Model epoch\n",
        "    if decoder_update:  # this is a decoder epoch, so set decoder number of iterations\n",
        "        num_iter_NAM = num_iter_decoder\n",
        "    else:  # this is an encoder epoch, so set encoder number of iterations\n",
        "        num_iter_NAM = num_iter_encoder\n",
        "    return num_iter_NAM\n",
        "\n",
        "\n",
        "def check_num_iter(num_iter_joint, num_iter_decoder, num_iter_encoder, num_iter):  # checks and sets the number of iterations for the epochs\n",
        "    if (num_iter_joint == 'max') or (num_iter_joint > num_iter):\n",
        "        num_iter_joint = num_iter\n",
        "    if (num_iter_decoder == 'max') or (num_iter_decoder > num_iter):\n",
        "        num_iter_decoder = num_iter\n",
        "    if (num_iter_encoder == 'max') or (num_iter_encoder > num_iter):\n",
        "        num_iter_encoder = num_iter\n",
        "    return num_iter_joint, num_iter_decoder, num_iter_encoder"
      ]
    },
    {
      "cell_type": "code",
      "execution_count": null,
      "metadata": {
        "colab": {
          "base_uri": "https://localhost:8080/"
        },
        "id": "KQ75u5gACgaC",
        "outputId": "f927aaec-bf17-48bf-c4db-78a884e4e26f"
      },
      "outputs": [
        {
          "output_type": "stream",
          "name": "stdout",
          "text": [
            "Files already downloaded and verified\n"
          ]
        }
      ],
      "source": [
        "# Set training data (CIFAR10)\n",
        "trainset = torchvision.datasets.CIFAR10(root='./data', train=True, download=True, transform=transforms.ToTensor())\n",
        "trainloader = torch.utils.data.DataLoader(trainset, batch_size=batch_size, shuffle=shuffle)\n",
        "\n",
        "num_iter = int(len(trainloader.dataset)//batch_size)  # maximum number of iterations per epoch for plotting purposes as it is set automatically by PyTorch)\n",
        "num_iter_joint, num_iter_decoder, num_iter_encoder = check_num_iter(num_iter_joint, num_iter_decoder, num_iter_encoder, num_iter)  # set the number of iterations for the epochs\n",
        "\n",
        "\n",
        "# Set loss suitable for autoencoders\n",
        "criterion = nn.MSELoss()"
      ]
    },
    {
      "cell_type": "code",
      "execution_count": null,
      "metadata": {
        "colab": {
          "base_uri": "https://localhost:8080/"
        },
        "id": "9gpC7c-AALtZ",
        "outputId": "c718c238-21e0-42da-de36-4bd024521802"
      },
      "outputs": [
        {
          "output_type": "stream",
          "name": "stdout",
          "text": [
            "\n",
            " Joint Model Training:\n",
            "Epoch [1/4], Loss: 0.0144\n",
            "Epoch [2/4], Loss: 0.0108\n",
            "Epoch [3/4], Loss: 0.0081\n",
            "Epoch [4/4], Loss: 0.0069\n"
          ]
        }
      ],
      "source": [
        "# Training loop for Joint Model\n",
        "if joint_model:  # train the Joint Model\n",
        "\n",
        "    set_seed(seed)  # set seed for reproducibility\n",
        "    model_joint = Autoencoder()\n",
        "    optimizer = torch.optim.Adam(model_joint.parameters(), lr=lr_joint)  # optimizer for the Joint Model\n",
        "    loss_joint = []  # loss container for the Joint Model\n",
        "\n",
        "    print(f'\\n Joint Model Training:')\n",
        "\n",
        "    for epoch in range(num_epochs):\n",
        "        for i, batch in enumerate(trainloader):  # for each batch and its index\n",
        "            if i == num_iter_joint:  # limit the number of iterations of the epochs\n",
        "                break\n",
        "            inputs, _ = batch  # get the inputs (labels are not required for autoencoders)\n",
        "\n",
        "            optimizer.zero_grad()  # clear the gradients of all autoencoder parameters\n",
        "            outputs = model_joint(inputs)\n",
        "            loss = criterion(outputs, inputs)\n",
        "            loss.backward()  # calculate partial_L/partial_w for all parameters\n",
        "            optimizer.step()  # update step for all parameters\n",
        "            loss_joint.append(loss.item())\n",
        "\n",
        "        print(f'Epoch [{epoch + 1}/{num_epochs}], Loss: {loss.item():.4f}')"
      ]
    },
    {
      "cell_type": "code",
      "source": [
        "# Training loop for NAM Model\n",
        "if NAM_model:\n",
        "\n",
        "    set_seed(seed)  # set seed for reproducibility\n",
        "    model_NAM = Autoencoder()\n",
        "    optimizer_decoder = torch.optim.Adam(model_NAM.decoder.parameters(), lr=lr_decoder)  # decoder optimizer for NAM\n",
        "    optimizer_encoder = torch.optim.Adam(model_NAM.encoder.parameters(), lr=lr_encoder)  # encoder optimizer for NAM\n",
        "    loss_NAM = {}  # loss container for NAM Model\n",
        "    iteration = 0  # total iteration counter (across epochs) for plotting purposes\n",
        "\n",
        "    decoder_update = decoder_start  # switch between encoder and decoder (if decoder_update=Ture, then update decoder, else update encoder)\n",
        "    num_iter_NAM = NAM_epoch_iterations(decoder_update)  # sets the number of iterations for the first epoch, according to whether the epoch corresponds to decoder/encoder\n",
        "\n",
        "    # setting requires_grad=False for the non-updated parts could potentially save some computation by avoiding the calculation of gradients for those parameters.\n",
        "    switch_requires_grad(model_NAM, decoder_update)  # switch requires_grad on and off according to the first epoch update (decoder and encoder)\n",
        "\n",
        "    print(f'\\n NAM Model Training:')\n",
        "\n",
        "    for epoch in range(num_epochs):\n",
        "        epoch_loss = []  # loss container for the epoch (this is required for easier plotting of decoder/encoder loss)\n",
        "        epoch_iter = []  # total iteration container corresponding to the epoch (this is required for easier plotting of decoder/encoder loss)\n",
        "\n",
        "        for i, data in enumerate(trainloader):  # for each batch and its index\n",
        "            if i == num_iter_NAM:  # limit the number of iterations of the epochs\n",
        "                break\n",
        "            inputs, _ = data  # get the inputs (labels are not required for autoencoders)\n",
        "\n",
        "            optimizer_decoder.zero_grad()  # clear the gradients of all decoder parameters\n",
        "            optimizer_encoder.zero_grad()  # clear the gradients of all encoder parameters\n",
        "            outputs = model_NAM(inputs)\n",
        "            loss = criterion(outputs, inputs)\n",
        "            loss.backward()  # calculate partial_L/partial_x for all parameters\n",
        "\n",
        "            if decoder_update:\n",
        "                optimizer_decoder.step()  # update step for decoder parameters\n",
        "            else:\n",
        "                optimizer_encoder.step()  # update step for encoder parameters\n",
        "\n",
        "            epoch_loss.append(loss.item())\n",
        "            epoch_iter.append(iteration)\n",
        "            iteration += 1\n",
        "\n",
        "        if decoder_update:\n",
        "            print(f'Epoch [{epoch + 1}/{num_epochs}] (decoder), Loss: {loss.item():.4f}')\n",
        "            loss_NAM[epoch] = (epoch_iter, epoch_loss, 'd')\n",
        "        else:\n",
        "            print(f'Epoch [{epoch + 1}/{num_epochs}] (encoder), Loss: {loss.item():.4f}')\n",
        "            loss_NAM[epoch] = (epoch_iter, epoch_loss, 'e')\n",
        "\n",
        "        decoder_update = not(decoder_update)  # switch between encoder and decoder\n",
        "        switch_requires_grad(model_NAM, decoder_update)  # switch requires_grad on and off according to the next epoch update (decoder and encoder)\n",
        "        num_iter_NAM = NAM_epoch_iterations(decoder_update)  # sets the number of iterations for the next epoch, according to whether the epoch corresponds to decoder/encoder"
      ],
      "metadata": {
        "colab": {
          "base_uri": "https://localhost:8080/"
        },
        "id": "ohl9yuc4pz-o",
        "outputId": "79c0ffcf-67eb-4a1b-c368-c98a5a4fe1f7"
      },
      "execution_count": null,
      "outputs": [
        {
          "output_type": "stream",
          "name": "stdout",
          "text": [
            "\n",
            " NAM Model Training:\n",
            "Epoch [1/4] (decoder), Loss: 0.0186\n",
            "Epoch [2/4] (encoder), Loss: 0.0126\n",
            "Epoch [3/4] (decoder), Loss: 0.0116\n",
            "Epoch [4/4] (encoder), Loss: 0.0090\n"
          ]
        }
      ]
    },
    {
      "cell_type": "code",
      "execution_count": null,
      "metadata": {
        "colab": {
          "base_uri": "https://localhost:8080/",
          "height": 472
        },
        "id": "ScVxMtpFHl5t",
        "outputId": "e6ee84b7-c002-4a97-fe14-192e0cad4fa0"
      },
      "outputs": [
        {
          "output_type": "display_data",
          "data": {
            "text/plain": [
              "<Figure size 640x480 with 1 Axes>"
            ],
            "image/png": "[encoded data removed]"
          },
          "metadata": {}
        }
      ],
      "source": [
        "# Plotting the Loss\n",
        "\n",
        "\n",
        "plot_joint_model = True\n",
        "plot_NAM_model = True\n",
        "\n",
        "\n",
        "if plot_joint_model:\n",
        "    plt.plot(loss_joint, color='green', linewidth=0.5)\n",
        "\n",
        "\n",
        "if plot_NAM_model:\n",
        "    for epoch in range(num_epochs):\n",
        "        if loss_NAM[epoch][2] == 'd':  # plot decoder iteration segments\n",
        "            plt.plot(loss_NAM[epoch][0], loss_NAM[epoch][1], color='blue', linewidth = 0.5)\n",
        "        else:  # plot encoder iteration segments\n",
        "            plt.plot(loss_NAM[epoch][0], loss_NAM[epoch][1], color='red', linewidth = 0.5)\n",
        "\n",
        "\n",
        "plt.xlabel('Iteration')\n",
        "plt.ylabel('Loss')\n",
        "plt.title('Training Loss')\n",
        "plt.xlim([0, num_epochs*num_iter])\n",
        "plt.legend(['Joint Model', 'NAM (decoder)', 'NAM (encoder)'])\n",
        "plt.show()"
      ]
    }
  ],
  "metadata": {
    "colab": {
      "provenance": [],
      "authorship_tag": "ABX9TyO7uOSZfMyh9DlhLjrpDqhM",
      "include_colab_link": true
    },
    "kernelspec": {
      "display_name": "Python 3",
      "name": "python3"
    },
    "language_info": {
      "name": "python"
    }
  },
  "nbformat": 4,
  "nbformat_minor": 0
}